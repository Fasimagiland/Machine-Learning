{
  "cells": [
    {
      "cell_type": "markdown",
      "source": [
        "### Connect to Drive"
      ],
      "metadata": {
        "id": "fIGK-GaFXPrQ"
      }
    },
    {
      "cell_type": "code",
      "execution_count": 1,
      "metadata": {
        "colab": {
          "base_uri": "https://localhost:8080/"
        },
        "id": "TRqyCiyKbr9y",
        "outputId": "74c4e6d5-5712-4144-ae25-50f55f237c0d"
      },
      "outputs": [
        {
          "output_type": "stream",
          "name": "stdout",
          "text": [
            "Drive already mounted at /content/drive; to attempt to forcibly remount, call drive.mount(\"/content/drive\", force_remount=True).\n"
          ]
        }
      ],
      "source": [
        "from google.colab import drive\n",
        "drive.mount('/content/drive')"
      ]
    },
    {
      "cell_type": "markdown",
      "source": [
        "### Import Library"
      ],
      "metadata": {
        "id": "ys81b5aWXWpk"
      }
    },
    {
      "cell_type": "code",
      "source": [
        "!pip install tflite_support==0.1.0a0"
      ],
      "metadata": {
        "id": "foKakXSBZfk2",
        "colab": {
          "base_uri": "https://localhost:8080/"
        },
        "outputId": "10d4bf92-1a0b-4541-a1ca-02276411f979"
      },
      "execution_count": 2,
      "outputs": [
        {
          "output_type": "stream",
          "name": "stdout",
          "text": [
            "Requirement already satisfied: tflite_support==0.1.0a0 in /usr/local/lib/python3.10/dist-packages (0.1.0a0)\n",
            "Requirement already satisfied: pybind11>=2.4 in /usr/local/lib/python3.10/dist-packages (from tflite_support==0.1.0a0) (2.12.0)\n",
            "Requirement already satisfied: absl-py>=0.7.0 in /usr/local/lib/python3.10/dist-packages (from tflite_support==0.1.0a0) (1.4.0)\n",
            "Requirement already satisfied: numpy in /usr/local/lib/python3.10/dist-packages (from tflite_support==0.1.0a0) (1.25.2)\n"
          ]
        }
      ]
    },
    {
      "cell_type": "code",
      "execution_count": 3,
      "metadata": {
        "id": "LW23wNDcV9mR"
      },
      "outputs": [],
      "source": [
        "import numpy as np\n",
        "import tensorflow as tf\n",
        "import matplotlib.pyplot as plt\n",
        "\n",
        "import os\n",
        "from tflite_support import flatbuffers\n",
        "from tflite_support import metadata as _metadata\n",
        "from tflite_support import metadata_schema_py_generated as _metadata_fb\n",
        "\n",
        "import numpy as np\n",
        "from PIL import Image\n",
        "import cv2"
      ]
    },
    {
      "cell_type": "markdown",
      "source": [
        "### Preprocess Data"
      ],
      "metadata": {
        "id": "KAlgfe6VXY1W"
      }
    },
    {
      "cell_type": "code",
      "execution_count": 4,
      "metadata": {
        "id": "MAPAcz6nWF2A"
      },
      "outputs": [],
      "source": [
        "def load_data(filename, n_data_to_load):\n",
        "    data = np.load(filename) #load data\n",
        "    # print(filename + ': ' + str(len(data)))\n",
        "\n",
        "    data = data[np.random.choice(len(data), size=n_data_to_load, replace=False)] #ambil n data secara random\n",
        "    # print('sampled ' + filename + ': ' + str(len(data)))\n",
        "\n",
        "    return data"
      ]
    },
    {
      "cell_type": "code",
      "execution_count": 5,
      "metadata": {
        "id": "5qPasw2ts5pV"
      },
      "outputs": [],
      "source": [
        "def load_dataset(classes, n_data_to_load):\n",
        "    data = []\n",
        "    label = []\n",
        "    i = 0\n",
        "    for x in classes:\n",
        "        filename = '/content/drive/MyDrive/dataset/dataset npy/'+x+'.npy'\n",
        "        temp_data = load_data(filename, n_data_to_load)\n",
        "        y = np.full(len(temp_data), i)\n",
        "        i = i + 1\n",
        "        data.append(temp_data)\n",
        "        label.append(y)\n",
        "\n",
        "\n",
        "    return np.array(data), np.array(label)\n"
      ]
    },
    {
      "cell_type": "code",
      "execution_count": 6,
      "metadata": {
        "id": "lyb5fSqtL0WZ"
      },
      "outputs": [],
      "source": [
        "def map_reshape_concat(data):\n",
        "    reshaped_image = np.reshape(data, ((data.shape[0] * data.shape[1]), data.shape[2]))\n",
        "    return reshaped_image"
      ]
    },
    {
      "cell_type": "code",
      "execution_count": 7,
      "metadata": {
        "id": "XgCgYJnxL28E"
      },
      "outputs": [],
      "source": [
        "def map_reshape(image):\n",
        "    reshaped_image = np.reshape(image, (28, 28))\n",
        "    return reshaped_image"
      ]
    },
    {
      "cell_type": "code",
      "execution_count": 8,
      "metadata": {
        "id": "9w1axRWqL5TJ"
      },
      "outputs": [],
      "source": [
        "def map_reshape_concat_label(label):\n",
        "    reshaped_label = np.reshape(label, (label.shape[0] * label.shape[1]))\n",
        "    return reshaped_label"
      ]
    },
    {
      "cell_type": "code",
      "execution_count": 9,
      "metadata": {
        "id": "kmnszJ6PMeex"
      },
      "outputs": [],
      "source": [
        "def normalize_image(image):\n",
        "    return image / 255.0"
      ]
    },
    {
      "cell_type": "code",
      "execution_count": 10,
      "metadata": {
        "id": "Q17HuVR3Mgun"
      },
      "outputs": [],
      "source": [
        "def expand_dim(data, index):\n",
        "    return np.expand_dims(data, index)"
      ]
    },
    {
      "cell_type": "code",
      "execution_count": 11,
      "metadata": {
        "id": "Fc0XCWWs8Xwi"
      },
      "outputs": [],
      "source": [
        "def augment_data():\n",
        "  datagen = tf.keras.preprocessing.image.ImageDataGenerator(\n",
        "      rotation_range=40,\n",
        "      width_shift_range=0.2,\n",
        "      height_shift_range=0.2,\n",
        "      shear_range=0.1,\n",
        "      zoom_range=0.2,\n",
        "      horizontal_flip=False,\n",
        "  )\n",
        "  return datagen"
      ]
    },
    {
      "cell_type": "markdown",
      "source": [
        "### Create Model"
      ],
      "metadata": {
        "id": "ce8xRqwgXcSc"
      }
    },
    {
      "cell_type": "code",
      "execution_count": 12,
      "metadata": {
        "id": "utKgt2yy8qjw"
      },
      "outputs": [],
      "source": [
        "def model_resnet(input_shape):\n",
        "    inputs = tf.keras.layers.Input(shape=input_shape)\n",
        "    x = tf.keras.layers.UpSampling2D(size=(2,2), interpolation='bilinear')(inputs)\n",
        "    base_model = tf.keras.applications.resnet.ResNet50(\n",
        "        input_shape=(56,56,3),\n",
        "        include_top=False,\n",
        "        weights='imagenet'\n",
        "    )\n",
        "    for layer in base_model.layers:\n",
        "        layer.trainable = True\n",
        "    x = base_model(x)\n",
        "    x = tf.keras.layers.GlobalAveragePooling2D()(x)\n",
        "    x = tf.keras.layers.Flatten()(x)\n",
        "    x = tf.keras.layers.Dense(512, activation='relu')(x)\n",
        "    x = tf.keras.layers.Dropout(0.3)(x)\n",
        "    x = tf.keras.layers.Dense(43, activation='softmax')(x)\n",
        "\n",
        "    model = tf.keras.Model(inputs=inputs, outputs=x)\n",
        "    return model"
      ]
    },
    {
      "cell_type": "code",
      "execution_count": 13,
      "metadata": {
        "id": "CHLmy1eaMmRw"
      },
      "outputs": [],
      "source": [
        "def compile_model(model, loss='sparse_categorical_crossentropy', optimizer='adam', metrics=['acc']):\n",
        "    model.compile(loss=loss, optimizer=optimizer, metrics=metrics)\n",
        "    return model"
      ]
    },
    {
      "cell_type": "code",
      "execution_count": 14,
      "metadata": {
        "id": "PeYeCA3YMouQ"
      },
      "outputs": [],
      "source": [
        "def train_model(model, train_data, train_label, validation_data, validation_label, epochs, batch_size=100, callbacks=None):\n",
        "    return model.fit(\n",
        "        train_data,\n",
        "        train_label,\n",
        "        validation_data=(validation_data, validation_label),\n",
        "        epochs=epochs,\n",
        "        batch_size=batch_size,\n",
        "        steps_per_epoch=len(train_data) // batch_size,\n",
        "\n",
        "    )"
      ]
    },
    {
      "cell_type": "code",
      "execution_count": 15,
      "metadata": {
        "id": "qVqRg0b79Ho3"
      },
      "outputs": [],
      "source": [
        "def train_model_withgenerator(dataAugmentaion, model, train_data, train_label, validation_data, validation_label, epochs, batch_size=100, callbacks=None):\n",
        "  return model.fit_generator(\n",
        "      dataAugmentaion.flow(train_data, train_label, batch_size = batch_size),\n",
        "      validation_data = (validation_data, validation_label),\n",
        "      steps_per_epoch = len(train_data) // batch_size,\n",
        "      epochs = epochs,\n",
        "      callbacks=callbacks\n",
        "  )"
      ]
    },
    {
      "cell_type": "markdown",
      "source": [
        "### Initialization Label"
      ],
      "metadata": {
        "id": "xL9pzHrsXnTU"
      }
    },
    {
      "cell_type": "code",
      "execution_count": 16,
      "metadata": {
        "colab": {
          "base_uri": "https://localhost:8080/"
        },
        "id": "-SEcIFG9rtjy",
        "outputId": "ac9c9201-4ae9-4088-bb64-a484de65a65f"
      },
      "outputs": [
        {
          "output_type": "stream",
          "name": "stdout",
          "text": [
            "Total Class: 43 class\n"
          ]
        }
      ],
      "source": [
        "classes = ['anjing', 'apel', 'awan', 'bebek', 'bintang', 'bus', 'bola basket',\n",
        "           'buku', 'bunga', 'burung', 'daun', 'es krim', 'gunung', 'hujan', 'ikan', 'kaktus',\n",
        "           'kalung', 'kaos', 'kelinci', 'koper', 'kue', 'kukis', 'kupu-kupu', 'lilin', 'lollipop',\n",
        "           'lumba-lumba', 'mata', 'matahari', 'mobil', 'pantai', 'payung', 'pelangi', 'pesawat',\n",
        "           'pisang', 'pohon', 'rumah', 'rumput', 'semangka', 'stroberi', 'sungai', 'topi', 'vas', 'wajah']\n",
        "print('Total Class:', len(classes), 'class')"
      ]
    },
    {
      "cell_type": "code",
      "execution_count": 17,
      "metadata": {
        "id": "DrZhgfLVMs3e"
      },
      "outputs": [],
      "source": [
        "n_train = 5000\n",
        "n_validation = 1000"
      ]
    },
    {
      "cell_type": "code",
      "execution_count": 18,
      "metadata": {
        "id": "OCZqZ-fIMw2R"
      },
      "outputs": [],
      "source": [
        "data, label = load_dataset(classes, n_train)\n",
        "# print(data.shape)\n",
        "# print(label.shape)\n",
        "data_validation, label_validation = load_dataset(classes, n_validation)"
      ]
    },
    {
      "cell_type": "code",
      "execution_count": 19,
      "metadata": {
        "id": "g4C6ykgpW8pp"
      },
      "outputs": [],
      "source": [
        "reshaped_flat_data = map_reshape_concat(data)\n",
        "# print(reshaped_flat_data.shape)\n",
        "# print(reshaped_flat_data[0])\n",
        "reshaped_flat_data_validation = map_reshape_concat(data_validation)\n"
      ]
    },
    {
      "cell_type": "code",
      "execution_count": 20,
      "metadata": {
        "id": "luJwkjcUhJSJ"
      },
      "outputs": [],
      "source": [
        "reshaped_data = np.array([map_reshape(image) for image in reshaped_flat_data])\n",
        "reshaped_data_validation = np.array([map_reshape(image) for image in reshaped_flat_data_validation])"
      ]
    },
    {
      "cell_type": "code",
      "execution_count": 21,
      "metadata": {
        "id": "0Y6DTC-8hMkE"
      },
      "outputs": [],
      "source": [
        "reshaped_label = map_reshape_concat_label(label)\n",
        "reshaped_label_validation = map_reshape_concat_label(label_validation)"
      ]
    },
    {
      "cell_type": "code",
      "execution_count": 22,
      "metadata": {
        "id": "ZW4AmLyVhORx"
      },
      "outputs": [],
      "source": [
        "normalized_reshaped_data = np.array([normalize_image(image) for image in reshaped_data])\n",
        "normalized_reshaped_data_validation = np.array([normalize_image(image) for image in reshaped_data_validation])"
      ]
    },
    {
      "cell_type": "code",
      "execution_count": 23,
      "metadata": {
        "id": "3jG-lkVvhQU8"
      },
      "outputs": [],
      "source": [
        "input_data = expand_dim(normalized_reshaped_data, 3)\n",
        "input_data_validation = expand_dim(normalized_reshaped_data_validation, 3)"
      ]
    },
    {
      "cell_type": "code",
      "source": [
        "input_data = np.repeat(normalized_reshaped_data[:, :, :, np.newaxis], 3, axis=3)\n",
        "input_data_validation = np.repeat(normalized_reshaped_data_validation[:, :, :, np.newaxis], 3, axis=3)"
      ],
      "metadata": {
        "id": "7bo98VJMAsRX"
      },
      "execution_count": 24,
      "outputs": []
    },
    {
      "cell_type": "code",
      "execution_count": 25,
      "metadata": {
        "colab": {
          "base_uri": "https://localhost:8080/"
        },
        "id": "ickcgwCNhUhd",
        "outputId": "2e4c167d-353d-4c02-d352-9c042a7358ed"
      },
      "outputs": [
        {
          "output_type": "stream",
          "name": "stderr",
          "text": [
            "/usr/local/lib/python3.10/dist-packages/keras/src/optimizers/legacy/adam.py:118: UserWarning: The `lr` argument is deprecated, use `learning_rate` instead.\n",
            "  super().__init__(name, **kwargs)\n"
          ]
        }
      ],
      "source": [
        "loss = tf.keras.losses.SparseCategoricalCrossentropy()\n",
        "optimizer = tf.keras.optimizers.legacy.Adam(lr=0.001)\n",
        "metrics = ['acc']"
      ]
    },
    {
      "cell_type": "markdown",
      "metadata": {
        "id": "VhpQPOKfFXcY"
      },
      "source": [
        "### Training Augmentation"
      ]
    },
    {
      "cell_type": "code",
      "execution_count": 26,
      "metadata": {
        "colab": {
          "base_uri": "https://localhost:8080/"
        },
        "id": "ZwArjPsd9ELP",
        "outputId": "a65600e4-15a4-4c59-aae6-fdf10083af79"
      },
      "outputs": [
        {
          "output_type": "stream",
          "name": "stdout",
          "text": [
            "Model: \"model\"\n",
            "_________________________________________________________________\n",
            " Layer (type)                Output Shape              Param #   \n",
            "=================================================================\n",
            " input_1 (InputLayer)        [(None, 28, 28, 3)]       0         \n",
            "                                                                 \n",
            " up_sampling2d (UpSampling2  (None, 56, 56, 3)         0         \n",
            " D)                                                              \n",
            "                                                                 \n",
            " resnet50 (Functional)       (None, 2, 2, 2048)        23587712  \n",
            "                                                                 \n",
            " global_average_pooling2d (  (None, 2048)              0         \n",
            " GlobalAveragePooling2D)                                         \n",
            "                                                                 \n",
            " flatten (Flatten)           (None, 2048)              0         \n",
            "                                                                 \n",
            " dense (Dense)               (None, 512)               1049088   \n",
            "                                                                 \n",
            " dropout (Dropout)           (None, 512)               0         \n",
            "                                                                 \n",
            " dense_1 (Dense)             (None, 43)                22059     \n",
            "                                                                 \n",
            "=================================================================\n",
            "Total params: 24658859 (94.07 MB)\n",
            "Trainable params: 24605739 (93.86 MB)\n",
            "Non-trainable params: 53120 (207.50 KB)\n",
            "_________________________________________________________________\n",
            "None\n"
          ]
        }
      ],
      "source": [
        "model_resnet = model_resnet((28,28,3))\n",
        "print(model_resnet.summary())\n",
        "compiled_model_resnet = compile_model(model_resnet, loss, optimizer, metrics)\n",
        "data_aug = augment_data()\n",
        "\n",
        "class myCallbacks(tf.keras.callbacks.Callback):\n",
        "  def on_epoch_end(self, epoch, logs={}):\n",
        "    if (logs.get('acc') > 0.98):\n",
        "      if (logs.get('val_acc') > 0.96):\n",
        "        self.model.stop_training = True\n",
        "callbacks = myCallbacks()"
      ]
    },
    {
      "cell_type": "code",
      "execution_count": 27,
      "metadata": {
        "colab": {
          "base_uri": "https://localhost:8080/"
        },
        "id": "13PBPw5h90IT",
        "outputId": "56c2725d-86c7-4955-c3be-e4c92d0513ca"
      },
      "outputs": [
        {
          "output_type": "stream",
          "name": "stdout",
          "text": [
            "Epoch 1/25\n"
          ]
        },
        {
          "output_type": "stream",
          "name": "stderr",
          "text": [
            "<ipython-input-27-88ef3567ec76>:1: UserWarning: `Model.fit_generator` is deprecated and will be removed in a future version. Please use `Model.fit`, which supports generators.\n",
            "  history = compiled_model_resnet.fit_generator(\n"
          ]
        },
        {
          "output_type": "stream",
          "name": "stdout",
          "text": [
            "   6/2150 [..............................] - ETA: 3:34 - loss: 3.9613 - acc: 0.1183"
          ]
        },
        {
          "output_type": "stream",
          "name": "stderr",
          "text": [
            "WARNING:tensorflow:Callback method `on_train_batch_end` is slow compared to the batch time (batch time: 0.0414s vs `on_train_batch_end` time: 0.0482s). Check your callbacks.\n"
          ]
        },
        {
          "output_type": "stream",
          "name": "stdout",
          "text": [
            "2150/2150 [==============================] - 256s 113ms/step - loss: 0.9948 - acc: 0.7306 - val_loss: 1.1150 - val_acc: 0.6934\n",
            "Epoch 2/25\n",
            "2150/2150 [==============================] - 242s 112ms/step - loss: 0.6811 - acc: 0.8116 - val_loss: 0.9981 - val_acc: 0.7282\n",
            "Epoch 3/25\n",
            "2150/2150 [==============================] - 241s 112ms/step - loss: 0.6052 - acc: 0.8326 - val_loss: 0.8660 - val_acc: 0.7622\n",
            "Epoch 4/25\n",
            "2150/2150 [==============================] - 240s 112ms/step - loss: 0.5624 - acc: 0.8440 - val_loss: 0.7119 - val_acc: 0.8038\n",
            "Epoch 5/25\n",
            "2150/2150 [==============================] - 240s 112ms/step - loss: 0.5290 - acc: 0.8532 - val_loss: 0.5617 - val_acc: 0.8451\n",
            "Epoch 6/25\n",
            "2150/2150 [==============================] - 241s 112ms/step - loss: 0.4959 - acc: 0.8619 - val_loss: 0.6152 - val_acc: 0.8336\n",
            "Epoch 7/25\n",
            "2150/2150 [==============================] - 240s 112ms/step - loss: 0.4773 - acc: 0.8667 - val_loss: 0.7129 - val_acc: 0.7991\n",
            "Epoch 8/25\n",
            "2150/2150 [==============================] - 241s 112ms/step - loss: 0.4611 - acc: 0.8701 - val_loss: 0.5110 - val_acc: 0.8584\n",
            "Epoch 9/25\n",
            "2150/2150 [==============================] - 241s 112ms/step - loss: 0.4450 - acc: 0.8752 - val_loss: 0.6137 - val_acc: 0.8317\n",
            "Epoch 10/25\n",
            "2150/2150 [==============================] - 241s 112ms/step - loss: 0.4299 - acc: 0.8790 - val_loss: 0.5095 - val_acc: 0.8597\n",
            "Epoch 11/25\n",
            "2150/2150 [==============================] - 241s 112ms/step - loss: 0.4194 - acc: 0.8822 - val_loss: 0.7055 - val_acc: 0.8038\n",
            "Epoch 12/25\n",
            "2150/2150 [==============================] - 241s 112ms/step - loss: 0.4135 - acc: 0.8841 - val_loss: 0.6302 - val_acc: 0.8276\n",
            "Epoch 13/25\n",
            "2150/2150 [==============================] - 241s 112ms/step - loss: 0.4024 - acc: 0.8871 - val_loss: 0.4826 - val_acc: 0.8657\n",
            "Epoch 14/25\n",
            "2150/2150 [==============================] - 241s 112ms/step - loss: 0.3874 - acc: 0.8893 - val_loss: 0.5389 - val_acc: 0.8516\n",
            "Epoch 15/25\n",
            "2150/2150 [==============================] - 240s 112ms/step - loss: 0.3875 - acc: 0.8905 - val_loss: 0.4356 - val_acc: 0.8790\n",
            "Epoch 16/25\n",
            "2150/2150 [==============================] - 240s 111ms/step - loss: 0.3847 - acc: 0.8911 - val_loss: 0.5518 - val_acc: 0.8476\n",
            "Epoch 17/25\n",
            "2150/2150 [==============================] - 240s 112ms/step - loss: 0.3740 - acc: 0.8937 - val_loss: 0.5382 - val_acc: 0.8550\n",
            "Epoch 18/25\n",
            "2150/2150 [==============================] - 240s 111ms/step - loss: 0.3616 - acc: 0.8972 - val_loss: 0.4868 - val_acc: 0.8645\n",
            "Epoch 19/25\n",
            "2150/2150 [==============================] - 240s 112ms/step - loss: 0.3713 - acc: 0.8948 - val_loss: 0.4590 - val_acc: 0.8756\n",
            "Epoch 20/25\n",
            "2150/2150 [==============================] - 240s 111ms/step - loss: 0.3484 - acc: 0.9003 - val_loss: 0.4324 - val_acc: 0.8839\n",
            "Epoch 21/25\n",
            "2150/2150 [==============================] - 240s 112ms/step - loss: 0.3472 - acc: 0.9003 - val_loss: 0.5076 - val_acc: 0.8615\n",
            "Epoch 22/25\n",
            "2150/2150 [==============================] - 241s 112ms/step - loss: 0.3526 - acc: 0.8998 - val_loss: 0.5139 - val_acc: 0.8598\n",
            "Epoch 23/25\n",
            "2150/2150 [==============================] - 242s 112ms/step - loss: 0.3383 - acc: 0.9031 - val_loss: 0.4574 - val_acc: 0.8760\n",
            "Epoch 24/25\n",
            "2150/2150 [==============================] - 242s 112ms/step - loss: 0.3303 - acc: 0.9046 - val_loss: 0.4860 - val_acc: 0.8691\n",
            "Epoch 25/25\n",
            "2150/2150 [==============================] - 242s 112ms/step - loss: 0.3394 - acc: 0.9034 - val_loss: 0.6333 - val_acc: 0.8490\n"
          ]
        }
      ],
      "source": [
        "history = compiled_model_resnet.fit_generator(\n",
        "      data_aug.flow(input_data, reshaped_label, batch_size=100),\n",
        "      validation_data = (input_data_validation, reshaped_label_validation),\n",
        "      steps_per_epoch = len(input_data) // 100,\n",
        "      epochs = 25,\n",
        "      callbacks=callbacks)"
      ]
    },
    {
      "cell_type": "markdown",
      "source": [
        "### Visualization Loss and Accuracy"
      ],
      "metadata": {
        "id": "WCzSV3p-YJr8"
      }
    },
    {
      "cell_type": "code",
      "source": [
        "# Visualisasi Loss dan Akurasi\n",
        "def plot_history(history):\n",
        "    # Plot training & validation accuracy values\n",
        "    plt.figure(figsize=(12, 4))\n",
        "\n",
        "    plt.subplot(1, 2, 1)\n",
        "    plt.plot(history.history['acc'])\n",
        "    plt.plot(history.history['val_acc'])\n",
        "    plt.title('Model accuracy')\n",
        "    plt.ylabel('Accuracy')\n",
        "    plt.xlabel('Epoch')\n",
        "    plt.legend(['Train', 'Validation'], loc='upper left')\n",
        "\n",
        "    # Plot training & validation loss values\n",
        "    plt.subplot(1, 2, 2)\n",
        "    plt.plot(history.history['loss'])\n",
        "    plt.plot(history.history['val_loss'])\n",
        "    plt.title('Model loss')\n",
        "    plt.ylabel('Loss')\n",
        "    plt.xlabel('Epoch')\n",
        "    plt.legend(['Train', 'Validation'], loc='upper left')\n",
        "\n",
        "    plt.show()\n",
        "\n",
        "plot_history(history)\n"
      ],
      "metadata": {
        "colab": {
          "base_uri": "https://localhost:8080/",
          "height": 410
        },
        "id": "U74nszf9YHVV",
        "outputId": "02d48034-b691-4185-dea4-c932941196e5"
      },
      "execution_count": 28,
      "outputs": [
        {
          "output_type": "display_data",
          "data": {
            "text/plain": [
              "<Figure size 1200x400 with 2 Axes>"
            ],
            "image/png": "[encoded data removed]"
          },
          "metadata": {}
        }
      ]
    },
    {
      "cell_type": "markdown",
      "metadata": {
        "id": "qKkDMBE0FYDH"
      },
      "source": [
        "### Save Model"
      ]
    },
    {
      "cell_type": "code",
      "execution_count": 29,
      "metadata": {
        "id": "KnZFCUDCscIw",
        "colab": {
          "base_uri": "https://localhost:8080/"
        },
        "outputId": "d252dc36-720b-4b4d-dea0-292dce2163db"
      },
      "outputs": [
        {
          "output_type": "stream",
          "name": "stderr",
          "text": [
            "/usr/local/lib/python3.10/dist-packages/keras/src/engine/training.py:3103: UserWarning: You are saving your model as an HDF5 file via `model.save()`. This file format is considered legacy. We recommend using instead the native Keras format, e.g. `model.save('my_model.keras')`.\n",
            "  saving_api.save_model(\n"
          ]
        }
      ],
      "source": [
        "# model_resnet.save(\"model_resnet.h5\")\n",
        "compiled_model_resnet.save(\"model_resnet_baru.h5\")"
      ]
    },
    {
      "cell_type": "code",
      "execution_count": 30,
      "metadata": {
        "id": "mrr8G-BSuFRU"
      },
      "outputs": [],
      "source": [
        "import tensorflow as tf\n",
        "\n",
        "# Load the saved model\n",
        "saved_model_path = \"model_resnet_baru.h5\"\n",
        "model = tf.keras.models.load_model(saved_model_path)\n",
        "\n",
        "# Convert the model to TensorFlow Lite format with select TensorFlow ops\n",
        "converter = tf.lite.TFLiteConverter.from_keras_model(model)\n",
        "converter.target_spec.supported_ops = [\n",
        "    tf.lite.OpsSet.TFLITE_BUILTINS,  # Enable TensorFlow Lite ops.\n",
        "    tf.lite.OpsSet.SELECT_TF_OPS     # Enable select TensorFlow ops.\n",
        "]\n",
        "converter._experimental_lower_tensor_list_ops = False\n",
        "\n",
        "tflite_model = converter.convert()\n",
        "\n",
        "# Save the TensorFlow Lite model to a file\n",
        "with open(\"model_resnet_3channel.tflite\", \"wb\") as f:\n",
        "    f.write(tflite_model)\n"
      ]
    },
    {
      "cell_type": "markdown",
      "source": [
        "### Create Metadata"
      ],
      "metadata": {
        "id": "6R_L6JzKWUfu"
      }
    },
    {
      "cell_type": "code",
      "source": [
        "# Load the TensorFlow Lite model\n",
        "model_path = 'model_resnet_3channel.tflite'\n",
        "with open(model_path, 'rb') as f:\n",
        "    model_buffer = f.read()\n",
        "\n",
        "# Create the metadata for the model\n",
        "model_meta = _metadata_fb.ModelMetadataT()\n",
        "model_meta.name = \"One Channel ResNet50 Image Classifier\"\n",
        "model_meta.description = \"Identify the most prominent object in the image\"\n",
        "model_meta.version = \"v1\"\n",
        "model_meta.author = \"fasimagiland\"\n",
        "model_meta.license = \"Apache License. Version 2.0 http://www.apache.org/licenses/LICENSE-2.0.\"\n",
        "\n",
        "# Create input info\n",
        "input_meta = _metadata_fb.TensorMetadataT()\n",
        "input_meta.name = \"input\"\n",
        "input_meta.description = \"Input image to be classified\"\n",
        "input_meta.content = _metadata_fb.ContentT()\n",
        "input_meta.content.contentProperties = _metadata_fb.ImagePropertiesT()\n",
        "input_meta.content.contentProperties.colorSpace = _metadata_fb.ColorSpaceType.RGB\n",
        "input_meta.content.contentPropertiesType = _metadata_fb.ContentProperties.ImageProperties\n",
        "input_normalization = _metadata_fb.ProcessUnitT()\n",
        "input_normalization.optionsType = _metadata_fb.ProcessUnitOptions.NormalizationOptions\n",
        "input_normalization.options = _metadata_fb.NormalizationOptionsT()\n",
        "input_normalization.options.mean = [0.0]\n",
        "input_normalization.options.std = [255.0]\n",
        "input_meta.processUnits = [input_normalization]\n",
        "input_stats = _metadata_fb.StatsT()\n",
        "input_stats.max = [255]\n",
        "input_stats.min = [0]\n",
        "input_meta.stats = input_stats\n",
        "\n",
        "# Create output info\n",
        "output_meta = _metadata_fb.TensorMetadataT()\n",
        "output_meta.name = \"output\"\n",
        "output_meta.description = \"Probabilities of the 43 labels respectively\"\n",
        "output_meta.content = _metadata_fb.ContentT()\n",
        "output_meta.content.contentProperties = _metadata_fb.FeaturePropertiesT()\n",
        "output_meta.content.contentPropertiesType = _metadata_fb.ContentProperties.FeatureProperties\n",
        "output_stats = _metadata_fb.StatsT()\n",
        "output_stats.max = [1.0]\n",
        "output_stats.min = [0.0]\n",
        "output_meta.stats = output_stats\n",
        "\n",
        "label_file = _metadata_fb.AssociatedFileT()\n",
        "label_file.name = os.path.basename(\"labels_fasimglnd.txt\")\n",
        "label_file.description = \"Labels for objects that the model can recognize\"\n",
        "label_file.type = _metadata_fb.AssociatedFileType.TENSOR_AXIS_LABELS\n",
        "output_meta.associatedFiles = [label_file]\n",
        "\n",
        "# Create subgraph info\n",
        "subgraph = _metadata_fb.SubGraphMetadataT()\n",
        "subgraph.inputTensorMetadata = [input_meta]\n",
        "subgraph.outputTensorMetadata = [output_meta]\n",
        "model_meta.subgraphMetadata = [subgraph]\n",
        "\n",
        "# Create a flatbuffer builder\n",
        "b = flatbuffers.Builder(0)\n",
        "b.Finish(model_meta.Pack(b), _metadata.MetadataPopulator.METADATA_FILE_IDENTIFIER)\n",
        "metadata_buf = b.Output()\n",
        "\n",
        "# Create a metadata populator\n",
        "populator = _metadata.MetadataPopulator.with_model_file(model_path)\n",
        "populator.load_metadata_buffer(metadata_buf)\n",
        "populator.load_associated_files([\"labels_fasimglnd.txt\"])\n",
        "populator.populate()\n",
        "\n",
        "model_with_metadata_path = 'model_baruMetadata.tflite'\n",
        "with open(model_with_metadata_path, 'wb') as f:\n",
        "    f.write(populator.get_model_buffer())"
      ],
      "metadata": {
        "id": "KiheO0FgJbnV"
      },
      "execution_count": 31,
      "outputs": []
    },
    {
      "cell_type": "markdown",
      "source": [
        "### Predict New Data"
      ],
      "metadata": {
        "id": "9DPlx_LMWdTw"
      }
    },
    {
      "cell_type": "code",
      "source": [
        "def preprocess_image(image_path):\n",
        "    image = Image.open(image_path).convert('L')  # Buka gambar dan konversi ke grayscale\n",
        "    image = image.resize((28, 28))  # Ubah ukuran gambar menjadi 28x28\n",
        "    image_array = np.array(image)  # Konversi gambar ke numpy array\n",
        "    normalized_image = normalize_image(image_array)  # Normalisasi gambar ke rentang [0, 1]\n",
        "    reshaped_image = map_reshape(normalized_image)  # Menggunakan fungsi map_reshape\n",
        "    input_image = expand_dim(normalized_image, -1)  # Tambahkan dimensi channel (28, 28, 1)\n",
        "    input_image = np.repeat(input_image, 3, axis=-1)  # Ulangi channel untuk membuatnya 3 channel (28, 28, 3)\n",
        "    input_image = expand_dim(input_image, 0)  # Tambahkan dimensi batch (1, 28, 28, 3)\n",
        "    input_image = input_image.astype(np.float32)  # Konversi ke float32\n",
        "    return input_image\n",
        "\n",
        "# Fungsi untuk memuat model TFLite\n",
        "def load_tflite_model(model_path):\n",
        "    interpreter = tf.lite.Interpreter(model_path=model_path)\n",
        "    interpreter.allocate_tensors()\n",
        "    return interpreter\n",
        "\n",
        "# Fungsi untuk melakukan prediksi dengan model TFLite\n",
        "def predict(interpreter, image):\n",
        "    input_details = interpreter.get_input_details()\n",
        "    output_details = interpreter.get_output_details()\n",
        "\n",
        "    interpreter.set_tensor(input_details[0]['index'], image)\n",
        "    interpreter.invoke()\n",
        "    predictions = interpreter.get_tensor(output_details[0]['index'])\n",
        "\n",
        "    return predictions\n",
        "\n",
        "# Memuat dan memproses gambar baru\n",
        "image_path = 'hujan.jpg'  # Ganti dengan path gambar Anda\n",
        "input_image = preprocess_image(image_path)\n",
        "\n",
        "# Memuat model TFLite\n",
        "tflite_model_path = 'model_baruMetadata.tflite'\n",
        "interpreter = load_tflite_model(tflite_model_path)\n",
        "\n",
        "# Melakukan prediksi\n",
        "predictions = predict(interpreter, input_image)\n",
        "predicted_class_index = np.argmax(predictions)\n",
        "predicted_class_name = classes[predicted_class_index]\n",
        "\n",
        "# Mendapatkan 5 probabilitas kelas tertinggi\n",
        "top_5_indices = np.argsort(predictions[0])[::-1][:5]\n",
        "top_5_classes = [classes[i] for i in top_5_indices]\n",
        "top_5_probabilities = predictions[0][top_5_indices]\n",
        "\n",
        "# Menampilkan hasil\n",
        "for class_name, probability in zip(top_5_classes, top_5_probabilities):\n",
        "    print(f\"{class_name} - {probability:.4f}\")\n",
        "\n",
        "# Visualisasi gambar dan probabilitas\n",
        "plt.figure(figsize=(10, 5))\n",
        "\n",
        "# Menampilkan gambar\n",
        "plt.subplot(1, 2, 1)\n",
        "plt.imshow(input_image[0], cmap='gray')\n",
        "plt.title(f\"Predicted: {predicted_class_name}\")\n",
        "plt.axis('off')\n",
        "\n",
        "plt.show()"
      ],
      "metadata": {
        "id": "fStw05KjN4fX",
        "colab": {
          "base_uri": "https://localhost:8080/",
          "height": 498
        },
        "outputId": "feef3651-c17c-4ce0-a43f-2b190998255a"
      },
      "execution_count": 32,
      "outputs": [
        {
          "output_type": "stream",
          "name": "stdout",
          "text": [
            "hujan - 0.9987\n",
            "rumput - 0.0013\n",
            "payung - 0.0000\n",
            "pantai - 0.0000\n",
            "kalung - 0.0000\n"
          ]
        },
        {
          "output_type": "display_data",
          "data": {
            "text/plain": [
              "<Figure size 1000x500 with 1 Axes>"
            ],
            "image/png": "[encoded data removed]"
          },
          "metadata": {}
        }
      ]
    }
  ],
  "metadata": {
    "colab": {
      "gpuType": "T4",
      "provenance": [],
      "machine_shape": "hm"
    },
    "kernelspec": {
      "display_name": "Python 3",
      "name": "python3"
    },
    "language_info": {
      "codemirror_mode": {
        "name": "ipython",
        "version": 3
      },
      "file_extension": ".py",
      "mimetype": "text/x-python",
      "name": "python",
      "nbconvert_exporter": "python",
      "pygments_lexer": "ipython3",
      "version": "3.10.11"
    },
    "accelerator": "GPU"
  },
  "nbformat": 4,
  "nbformat_minor": 0
}